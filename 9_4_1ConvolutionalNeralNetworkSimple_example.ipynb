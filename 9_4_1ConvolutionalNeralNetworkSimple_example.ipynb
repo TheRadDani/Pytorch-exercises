{
  "cells": [
    {
      "cell_type": "markdown",
      "metadata": {
        "id": "view-in-github",
        "colab_type": "text"
      },
      "source": [
        "<a href=\"https://colab.research.google.com/github/TheRadDani/Pytorch-exercises/blob/main/9_4_1ConvolutionalNeralNetworkSimple_example.ipynb\" target=\"_parent\"><img src=\"https://colab.research.google.com/assets/colab-badge.svg\" alt=\"Open In Colab\"/></a>"
      ]
    },
    {
      "cell_type": "markdown",
      "metadata": {
        "id": "372c7ed2-27ed-461c-8384-05a15b526774"
      },
      "source": [
        "<p style=\"text-align:center\">\n",
        "    <a href=\"https://skills.network/?utm_medium=Exinfluencer&utm_source=Exinfluencer&utm_content=000026UJ&utm_term=10006555&utm_id=NA-SkillsNetwork-Channel-SkillsNetworkCoursesIBMDeveloperSkillsNetworkDL0110ENSkillsNetwork952-2022-01-01\" target=\"_blank\">\n",
        "    <img src=\"https://cf-courses-data.s3.us.cloud-object-storage.appdomain.cloud/assets/logos/SN_web_lightmode.png\" width=\"200\" alt=\"Skills Network Logo\"  />\n",
        "    </a>\n",
        "</p>\n",
        "<h1 align=center><font size = 5>Convolutional Neral Network Simple example </font></h1> \n"
      ]
    },
    {
      "cell_type": "markdown",
      "metadata": {
        "id": "5a244940-2c10-46bd-8e4e-ad8ae01e927b"
      },
      "source": [
        "\n",
        "<h3>Objective for this Notebook<h3>    \n",
        "<h5> 1. Learn Convolutional Neral Network</h5>\n",
        "<h5> 2. Define Softmax , Criterion function, Optimizer and Train the  Model</h5>    \n",
        "\n"
      ]
    },
    {
      "cell_type": "markdown",
      "metadata": {
        "id": "1b0ceeea-ae1b-4ceb-8a5e-2f61b7670367"
      },
      "source": [
        "\n",
        "# Table of Contents\n",
        "In this lab, we will use a Convolutional Neral Networks to classify horizontal an vertical Lines \n",
        "\n",
        "<div class=\"alert alert-block alert-info\" style=\"margin-top: 20px\">\n",
        "<li><a href=\"#ref0\">Helper functions </a></li>\n",
        "\n",
        "<li><a href=\"#ref1\"> Prepare Data </a></li>\n",
        "<li><a href=\"#ref2\">Convolutional Neral Network </a></li>\n",
        "<li><a href=\"#ref3\">Define Softmax , Criterion function, Optimizer and Train the  Model</a></li>\n",
        "<li><a href=\"#ref4\">Analyse Results</a></li>\n",
        "\n",
        "<br>\n",
        "<p></p>\n",
        "Estimated Time Needed: <strong>25 min</strong>\n",
        "</div>\n",
        "\n",
        "<hr>\n"
      ]
    },
    {
      "cell_type": "markdown",
      "metadata": {
        "id": "3b4a86a4-8b43-45e9-bd2e-b005219fe4f4"
      },
      "source": [
        "<a id=\"ref0\"></a>\n",
        "<h2 align=center>Helper functions </h2>\n"
      ]
    },
    {
      "cell_type": "code",
      "metadata": {
        "id": "49a133b2-9571-41f5-8f8e-2b8673f9b2a3"
      },
      "outputs": [],
      "source": [
        "import torch \n",
        "import torch.nn as nn\n",
        "import torchvision.transforms as transforms\n",
        "import torchvision.datasets as dsets\n",
        "import matplotlib.pylab as plt\n",
        "import numpy as np\n",
        "import pandas as pd"
      ],
      "execution_count": 83
    },
    {
      "cell_type": "code",
      "metadata": {
        "colab": {
          "base_uri": "https://localhost:8080/"
        },
        "id": "c5bd7abc-4afd-4a6d-bd7c-ac1cc592f45d",
        "outputId": "49141c8b-310d-4700-e5bc-98377ca29876"
      },
      "outputs": [
        {
          "output_type": "execute_result",
          "data": {
            "text/plain": [
              "<torch._C.Generator at 0x7fbbbc12cdd0>"
            ]
          },
          "metadata": {},
          "execution_count": 84
        }
      ],
      "source": [
        "torch.manual_seed(4)"
      ],
      "execution_count": 84
    },
    {
      "cell_type": "markdown",
      "metadata": {
        "id": "29316db1-fc4e-4bfa-a77b-96b07caa4acc"
      },
      "source": [
        "function to plot out the parameters of the Convolutional layers  \n"
      ]
    },
    {
      "cell_type": "code",
      "metadata": {
        "id": "0bf76c4e-c54c-4f88-b181-21dc1f2792d9"
      },
      "outputs": [],
      "source": [
        "def plot_channels(W):\n",
        "    #number of output channels \n",
        "    n_out=W.shape[0]\n",
        "    #number of input channels \n",
        "    n_in=W.shape[1]\n",
        "    w_min=W.min().item()\n",
        "    w_max=W.max().item()\n",
        "    fig, axes = plt.subplots(n_out,n_in)\n",
        "    fig.subplots_adjust(hspace = 0.1)\n",
        "    out_index=0\n",
        "    in_index=0\n",
        "    #plot outputs as rows inputs as columns \n",
        "    for ax in axes.flat:\n",
        "    \n",
        "        if in_index>n_in-1:\n",
        "            out_index=out_index+1\n",
        "            in_index=0\n",
        "              \n",
        "        ax.imshow(W[out_index,in_index,:,:], vmin=w_min, vmax=w_max, cmap='seismic')\n",
        "        ax.set_yticklabels([])\n",
        "        ax.set_xticklabels([])\n",
        "        in_index=in_index+1\n",
        "\n",
        "    plt.show()"
      ],
      "execution_count": 85
    },
    {
      "cell_type": "markdown",
      "metadata": {
        "id": "1a7d9b23-3062-4b6e-bc57-8a20766a816d"
      },
      "source": [
        "<code>show_data</code>: plot out data sample\n"
      ]
    },
    {
      "cell_type": "code",
      "metadata": {
        "id": "88e4dace-79f8-4c18-ad3c-622215e4ef1b"
      },
      "outputs": [],
      "source": [
        "def show_data(dataset,sample):\n",
        "\n",
        "    plt.imshow(dataset.x[sample,0,:,:].numpy(),cmap='gray')\n",
        "    plt.title('y='+str(dataset.y[sample].item()))\n",
        "    plt.show()"
      ],
      "execution_count": 87
    },
    {
      "cell_type": "markdown",
      "metadata": {
        "id": "202ab209-3482-482e-a445-e34ba7172206"
      },
      "source": [
        "create some toy data \n"
      ]
    },
    {
      "cell_type": "code",
      "metadata": {
        "id": "52841ea5-18de-4bd2-b5fb-bcd76f6ca2f4"
      },
      "outputs": [],
      "source": [
        "from torch.utils.data import Dataset, DataLoader\n",
        "class Data(Dataset):\n",
        "    def __init__(self,N_images=100,offset=0,p=0.9, train=False):\n",
        "        \"\"\"\n",
        "        p:portability that pixel is wight  \n",
        "        N_images:number of images \n",
        "        offset:set a random vertical and horizontal offset images by a sample should be less than 3 \n",
        "        \"\"\"\n",
        "        if train==True:\n",
        "            np.random.seed(1)  \n",
        "        \n",
        "        #make images multiple of 3 \n",
        "        N_images=2*(N_images//2)\n",
        "        images=np.zeros((N_images,1,11,11))\n",
        "        start1=3\n",
        "        start2=1\n",
        "        self.y=torch.zeros(N_images).type(torch.long)\n",
        "\n",
        "        for n in range(N_images):\n",
        "            if offset>0:\n",
        "        \n",
        "                low=int(np.random.randint(low=start1, high=start1+offset, size=1))\n",
        "                high=int(np.random.randint(low=start2, high=start2+offset, size=1))\n",
        "            else:\n",
        "                low=4\n",
        "                high=1\n",
        "        \n",
        "            if n<=N_images//2:\n",
        "                self.y[n]=0\n",
        "                images[n,0,high:high+9,low:low+3]= np.random.binomial(1, p, (9,3))\n",
        "            elif  n>N_images//2:\n",
        "                self.y[n]=1\n",
        "                images[n,0,low:low+3,high:high+9] = np.random.binomial(1, p, (3,9))\n",
        "           \n",
        "        \n",
        "        \n",
        "        self.x=torch.from_numpy(images).type(torch.FloatTensor)\n",
        "        self.len=self.x.shape[0]\n",
        "        del(images)\n",
        "        np.random.seed(0)\n",
        "    def __getitem__(self,index):      \n",
        "        return self.x[index],self.y[index]\n",
        "    def __len__(self):\n",
        "        return self.len"
      ],
      "execution_count": 88
    },
    {
      "cell_type": "markdown",
      "metadata": {
        "id": "6e25e502-bcbb-486b-a356-751ea87a474e"
      },
      "source": [
        "<code>plot_activation</code>: plot out the activations of the Convolutional layers  \n"
      ]
    },
    {
      "cell_type": "code",
      "metadata": {
        "id": "36ea2424-4b5c-454b-86ee-f52265bd2272"
      },
      "outputs": [],
      "source": [
        "def plot_activations(A,number_rows= 1,name=\"\"):\n",
        "    A=A[0,:,:,:].detach().numpy()\n",
        "    n_activations=A.shape[0]\n",
        "    \n",
        "    \n",
        "    print(n_activations)\n",
        "    A_min=A.min().item()\n",
        "    A_max=A.max().item()\n",
        "\n",
        "    if n_activations==1:\n",
        "\n",
        "        # Plot the image.\n",
        "        plt.imshow(A[0,:], vmin=A_min, vmax=A_max, cmap='seismic')\n",
        "\n",
        "    else:\n",
        "        fig, axes = plt.subplots(number_rows, n_activations//number_rows)\n",
        "        fig.subplots_adjust(hspace = 0.4)\n",
        "        for i,ax in enumerate(axes.flat):\n",
        "            if i< n_activations:\n",
        "                # Set the label for the sub-plot.\n",
        "                ax.set_xlabel( \"activation:{0}\".format(i+1))\n",
        "\n",
        "                # Plot the image.\n",
        "                ax.imshow(A[i,:], vmin=A_min, vmax=A_max, cmap='seismic')\n",
        "                ax.set_xticks([])\n",
        "                ax.set_yticks([])\n",
        "    plt.show()"
      ],
      "execution_count": 89
    },
    {
      "cell_type": "markdown",
      "metadata": {
        "id": "b3e47bff-2cb3-4b3f-ace8-791da6cec54b"
      },
      "source": [
        "\n",
        "Utility function for computing output of convolutions\n",
        "takes a tuple of (h,w) and returns a tuple of (h,w)\n"
      ]
    },
    {
      "cell_type": "code",
      "metadata": {
        "id": "8b9487f6-8b04-4bd1-9407-8ecc9d9c81cf"
      },
      "outputs": [],
      "source": [
        "\n",
        "def conv_output_shape(h_w, kernel_size=1, stride=1, pad=0, dilation=1):\n",
        "    #by Duane Nielsen\n",
        "    from math import floor\n",
        "    if type(kernel_size) is not tuple:\n",
        "        kernel_size = (kernel_size, kernel_size)\n",
        "    h = floor( ((h_w[0] + (2 * pad) - ( dilation * (kernel_size[0] - 1) ) - 1 )/ stride) + 1)\n",
        "    w = floor( ((h_w[1] + (2 * pad) - ( dilation * (kernel_size[1] - 1) ) - 1 )/ stride) + 1)\n",
        "    return h, w"
      ],
      "execution_count": 90
    },
    {
      "cell_type": "markdown",
      "metadata": {
        "id": "caef31fe-225b-4a06-b925-d1da6e0618de"
      },
      "source": [
        "<a id=\"ref1\"></a>\n",
        "<h2 align=center>Prepare Data </h2> \n"
      ]
    },
    {
      "cell_type": "markdown",
      "metadata": {
        "id": "ca99bfc6-9ab0-45cf-9676-14e6be84670e"
      },
      "source": [
        "Load the training dataset with 10000 samples \n"
      ]
    },
    {
      "cell_type": "code",
      "metadata": {
        "id": "bf878100-3aa8-4851-9253-a4550344966c"
      },
      "outputs": [],
      "source": [
        "N_images=10000\n",
        "train_dataset=Data(N_images=N_images)"
      ],
      "execution_count": 91
    },
    {
      "cell_type": "markdown",
      "metadata": {
        "id": "066c9ac0-3776-40c2-a915-058761c343b5"
      },
      "source": [
        "Load the testing dataset\n"
      ]
    },
    {
      "cell_type": "code",
      "metadata": {
        "colab": {
          "base_uri": "https://localhost:8080/"
        },
        "id": "2804e04a-f4c6-4b33-a2ef-02831adcb5fc",
        "outputId": "a40135cf-6e40-4f67-8b43-3cd9957c39ad"
      },
      "outputs": [
        {
          "output_type": "execute_result",
          "data": {
            "text/plain": [
              "torch.Size([1, 11, 11])"
            ]
          },
          "metadata": {},
          "execution_count": 92
        }
      ],
      "source": [
        "validation_dataset=Data(N_images=1000,train=False)\n",
        "validation_dataset[0][0].shape"
      ],
      "execution_count": 92
    },
    {
      "cell_type": "markdown",
      "metadata": {
        "id": "e4f76952-8ee3-431c-a46b-8d91023ce603"
      },
      "source": [
        "we can see the data type is long \n"
      ]
    },
    {
      "cell_type": "markdown",
      "metadata": {
        "id": "8e12dae0-ae35-41c8-8cfe-a7f68cf0b448"
      },
      "source": [
        "### Data Visualization \n"
      ]
    },
    {
      "cell_type": "markdown",
      "metadata": {
        "id": "9483540f-938b-436c-8c9e-008ef815f6af"
      },
      "source": [
        "Each element in the rectangular  tensor corresponds to a number representing a pixel intensity  as demonstrated by  the following image.\n"
      ]
    },
    {
      "cell_type": "markdown",
      "metadata": {
        "id": "c7270411-02f2-4d0b-99de-e39f8b4ace0f"
      },
      "source": [
        "We can print out the third label \n"
      ]
    },
    {
      "cell_type": "code",
      "metadata": {
        "colab": {
          "base_uri": "https://localhost:8080/",
          "height": 452
        },
        "id": "bebaac1c-641d-4a3b-89dd-b85f93af008b",
        "outputId": "f2aa296d-0fee-4adb-9a49-93287f4de268"
      },
      "outputs": [
        {
          "output_type": "display_data",
          "data": {
            "text/plain": [
              "<Figure size 640x480 with 1 Axes>"
            ],
            "image/png": "[encoded data removed]"
          },
          "metadata": {}
        }
      ],
      "source": [
        "show_data(train_dataset,0)"
      ],
      "execution_count": 93
    },
    {
      "cell_type": "code",
      "metadata": {
        "colab": {
          "base_uri": "https://localhost:8080/",
          "height": 452
        },
        "id": "2c26564d-fa40-4946-a6c4-7000fb3863b8",
        "outputId": "55fb86c2-4c6d-4b4d-87e0-aec945ee4a37"
      },
      "outputs": [
        {
          "output_type": "display_data",
          "data": {
            "text/plain": [
              "<Figure size 640x480 with 1 Axes>"
            ],
            "image/png": "[encoded data removed]"
          },
          "metadata": {}
        }
      ],
      "source": [
        "show_data(train_dataset,N_images//2+2)"
      ],
      "execution_count": 94
    },
    {
      "cell_type": "markdown",
      "metadata": {
        "id": "1d84c987-f3f8-482d-a365-725bb185af4d"
      },
      "source": [
        "we can plot the 3rd  sample \n"
      ]
    },
    {
      "cell_type": "markdown",
      "metadata": {
        "id": "a3f33ada-7ea2-48c7-91e1-99a83293251a"
      },
      "source": [
        "<a id=\"ref3\"></a>\n",
        "### Build a Convolutional Neral Network Class \n"
      ]
    },
    {
      "cell_type": "markdown",
      "metadata": {
        "id": "d48caaab-0877-485e-8ae8-defd3b69ed7c"
      },
      "source": [
        "The input image is 11 x11, the following will change the size of the activations:\n",
        "<ul>\n",
        "<il>convolutional layer</il> \n",
        "</ul>\n",
        "<ul>\n",
        "<il>max pooling layer</il> \n",
        "</ul>\n",
        "<ul>\n",
        "<il>convolutional layer </il>\n",
        "</ul>\n",
        "<ul>\n",
        "<il>max pooling layer </il>\n",
        "</ul>\n",
        "\n",
        "with the following parameters <code>kernel_size</code>, <code>stride</code> and <code> pad</code>.\n",
        "We use the following  lines of code to change the image before we get tot he fully connected layer \n"
      ]
    },
    {
      "cell_type": "code",
      "metadata": {
        "colab": {
          "base_uri": "https://localhost:8080/"
        },
        "id": "db7f2d52-75c6-45bc-9a66-b9e947227970",
        "outputId": "06072229-4983-42eb-c8c0-01dcd90fdd54"
      },
      "outputs": [
        {
          "output_type": "stream",
          "name": "stdout",
          "text": [
            "(10, 10)\n",
            "(9, 9)\n",
            "(8, 8)\n",
            "(7, 7)\n"
          ]
        }
      ],
      "source": [
        "out=conv_output_shape((11,11), kernel_size=2, stride=1, pad=0, dilation=1)\n",
        "print(out)\n",
        "out1=conv_output_shape(out, kernel_size=2, stride=1, pad=0, dilation=1)\n",
        "print(out1)\n",
        "out2=conv_output_shape(out1, kernel_size=2, stride=1, pad=0, dilation=1)\n",
        "print(out2)\n",
        "\n",
        "out3=conv_output_shape(out2, kernel_size=2, stride=1, pad=0, dilation=1)\n",
        "print(out3)"
      ],
      "execution_count": 95
    },
    {
      "cell_type": "markdown",
      "metadata": {
        "id": "ee89cbec-7617-4307-9e58-b0f50fa99318"
      },
      "source": [
        "Build a Convolutional Network class with two Convolutional layers and one fully connected layer. Pre-determine the size of the final output matrix. The parameters in the constructor are the number of output channels for the first and second layer.\n"
      ]
    },
    {
      "cell_type": "code",
      "metadata": {
        "id": "46e9692d-45a6-4022-95d0-2245602ef30a"
      },
      "outputs": [],
      "source": [
        "class CNN(nn.Module):\n",
        "    def __init__(self,out_1=2,out_2=1):\n",
        "        \n",
        "        super(CNN,self).__init__()\n",
        "        #first Convolutional layers \n",
        "        self.cnn1=nn.Conv2d(in_channels=1,out_channels=out_1,kernel_size=2,padding=0)\n",
        "        self.maxpool1=nn.MaxPool2d(kernel_size=2 ,stride=1)\n",
        "\n",
        "        #second Convolutional layers\n",
        "        self.cnn2=nn.Conv2d(in_channels=out_1,out_channels=out_2,kernel_size=2,stride=1,padding=0)\n",
        "        self.maxpool2=nn.MaxPool2d(kernel_size=2 ,stride=1)\n",
        "        #max pooling \n",
        "\n",
        "        #fully connected layer \n",
        "        self.fc1=nn.Linear(out_2*7*7,2)\n",
        "        \n",
        "    def forward(self,x):\n",
        "        #first Convolutional layers\n",
        "        x=self.cnn1(x)\n",
        "        #activation function \n",
        "        x=torch.relu(x)\n",
        "        #max pooling \n",
        "        x=self.maxpool1(x)\n",
        "        #first Convolutional layers\n",
        "        x=self.cnn2(x)\n",
        "        #activation function\n",
        "        x=torch.relu(x)\n",
        "        #max pooling\n",
        "        x=self.maxpool2(x)\n",
        "        #flatten output \n",
        "        x=x.view(x.size(0),-1)\n",
        "        #fully connected layer\n",
        "        x=self.fc1(x)\n",
        "        return x\n",
        "    \n",
        "    def activations(self,x):\n",
        "        #outputs activation this is not necessary just for fun \n",
        "        z1=self.cnn1(x)\n",
        "        a1=torch.relu(z1)\n",
        "        out=self.maxpool1(a1)\n",
        "        \n",
        "        z2=self.cnn2(out)\n",
        "        a2=torch.relu(z2)\n",
        "        out=self.maxpool2(a2)\n",
        "        out=out.view(out.size(0),-1)\n",
        "        return z1,a1,z2,a2,out        "
      ],
      "execution_count": 96
    },
    {
      "cell_type": "markdown",
      "metadata": {
        "id": "3157611e-8685-4ebb-8b85-3df57bb4ad45"
      },
      "source": [
        "<a id=\"ref3\"></a>\n",
        "<h2> Define the Convolutional Neral Network Classifier , Criterion function, Optimizer and Train the  Model  </h2> \n"
      ]
    },
    {
      "cell_type": "markdown",
      "metadata": {
        "id": "faa04725-942b-4494-b114-3e7798aa0436"
      },
      "source": [
        "There are 2 output channels for the first layer, and 1 outputs channel for the second layer \n"
      ]
    },
    {
      "cell_type": "code",
      "metadata": {
        "id": "bb80d1c0-2026-481e-92ed-b0933dfb5269"
      },
      "outputs": [],
      "source": [
        "model=CNN(2,1)"
      ],
      "execution_count": 97
    },
    {
      "cell_type": "markdown",
      "metadata": {
        "id": "31f0d39c-44af-4e5f-9003-1c45d6a543d6"
      },
      "source": [
        "we can see the model parameters with the object \n"
      ]
    },
    {
      "cell_type": "code",
      "metadata": {
        "id": "01d47bf0-555a-4e71-a0b7-02ffe3f64e33",
        "colab": {
          "base_uri": "https://localhost:8080/"
        },
        "outputId": "048e5a04-acf7-41fa-a1c2-ea97addde8d0"
      },
      "outputs": [
        {
          "output_type": "execute_result",
          "data": {
            "text/plain": [
              "CNN(\n",
              "  (cnn1): Conv2d(1, 2, kernel_size=(2, 2), stride=(1, 1))\n",
              "  (maxpool1): MaxPool2d(kernel_size=2, stride=1, padding=0, dilation=1, ceil_mode=False)\n",
              "  (cnn2): Conv2d(2, 1, kernel_size=(2, 2), stride=(1, 1))\n",
              "  (maxpool2): MaxPool2d(kernel_size=2, stride=1, padding=0, dilation=1, ceil_mode=False)\n",
              "  (fc1): Linear(in_features=49, out_features=2, bias=True)\n",
              ")"
            ]
          },
          "metadata": {},
          "execution_count": 98
        }
      ],
      "source": [
        "model"
      ],
      "execution_count": 98
    },
    {
      "cell_type": "code",
      "source": [
        "model.state_dict()"
      ],
      "metadata": {
        "colab": {
          "base_uri": "https://localhost:8080/"
        },
        "id": "NfOriFNm83rf",
        "outputId": "f9c3fadb-7110-4a86-ceec-25e7aaad8823"
      },
      "execution_count": 99,
      "outputs": [
        {
          "output_type": "execute_result",
          "data": {
            "text/plain": [
              "OrderedDict([('cnn1.weight',\n",
              "              tensor([[[[ 0.0596,  0.0591],\n",
              "                        [-0.4085, -0.2900]]],\n",
              "              \n",
              "              \n",
              "                      [[[-0.4928, -0.4610],\n",
              "                        [ 0.4929,  0.4131]]]])),\n",
              "             ('cnn1.bias', tensor([0.1186, 0.4744])),\n",
              "             ('cnn2.weight',\n",
              "              tensor([[[[-0.1280, -0.2016],\n",
              "                        [ 0.3014, -0.0187]],\n",
              "              \n",
              "                       [[ 0.0671,  0.2090],\n",
              "                        [ 0.1863, -0.2024]]]])),\n",
              "             ('cnn2.bias', tensor([-0.1367])),\n",
              "             ('fc1.weight',\n",
              "              tensor([[-0.1318,  0.0063, -0.0512,  0.0307,  0.0066,  0.1218,  0.0123,  0.0716,\n",
              "                        0.0451,  0.1267, -0.0594,  0.1193,  0.1025, -0.0570,  0.0876,  0.1321,\n",
              "                       -0.0808, -0.0557,  0.0977,  0.1152,  0.0377,  0.0439,  0.1058,  0.1252,\n",
              "                       -0.0904, -0.0588,  0.1203,  0.0772, -0.0670, -0.0485,  0.1386, -0.0895,\n",
              "                        0.0919,  0.0829, -0.1370, -0.1426,  0.0474,  0.0701,  0.1266,  0.0176,\n",
              "                        0.0969, -0.1015,  0.0853, -0.1376,  0.0931,  0.0155,  0.0882,  0.0564,\n",
              "                       -0.0988],\n",
              "                      [ 0.0015,  0.0181,  0.0205, -0.1251, -0.0722, -0.0673, -0.0777,  0.1216,\n",
              "                        0.0808,  0.0588, -0.0428, -0.1159,  0.0304,  0.1320,  0.0636, -0.1153,\n",
              "                       -0.0127,  0.0058,  0.0907,  0.0603, -0.1007, -0.1347,  0.0424,  0.0697,\n",
              "                        0.0819,  0.0983,  0.1263, -0.0596, -0.1390,  0.0700,  0.1378, -0.1041,\n",
              "                       -0.0719,  0.1223,  0.1116, -0.0137, -0.0815,  0.0262, -0.1399, -0.0564,\n",
              "                       -0.0185, -0.0340,  0.0589,  0.0030, -0.1126, -0.0140,  0.0133,  0.0893,\n",
              "                        0.0080]])),\n",
              "             ('fc1.bias', tensor([-0.0498,  0.0556]))])"
            ]
          },
          "metadata": {},
          "execution_count": 99
        }
      ]
    },
    {
      "cell_type": "markdown",
      "metadata": {
        "id": "763b2652-060d-4198-8fab-4e65d2bd838f"
      },
      "source": [
        "Plot the model parameters for the kernels before training the kernels. The kernels are initialized randomly.\n"
      ]
    },
    {
      "cell_type": "code",
      "source": [
        "model.state_dict()['cnn1.weight'].size()"
      ],
      "metadata": {
        "colab": {
          "base_uri": "https://localhost:8080/"
        },
        "id": "foXMQ9l69TF0",
        "outputId": "492cf2e0-551d-4bb1-bdd2-02361e7e0ad6"
      },
      "execution_count": 100,
      "outputs": [
        {
          "output_type": "execute_result",
          "data": {
            "text/plain": [
              "torch.Size([2, 1, 2, 2])"
            ]
          },
          "metadata": {},
          "execution_count": 100
        }
      ]
    },
    {
      "cell_type": "code",
      "source": [
        "model.state_dict()['cnn2.weight'].size()"
      ],
      "metadata": {
        "colab": {
          "base_uri": "https://localhost:8080/"
        },
        "id": "NZd5K6BE-AB6",
        "outputId": "6a71778a-908e-49f0-9ebd-b3a4622c5323"
      },
      "execution_count": 101,
      "outputs": [
        {
          "output_type": "execute_result",
          "data": {
            "text/plain": [
              "torch.Size([1, 2, 2, 2])"
            ]
          },
          "metadata": {},
          "execution_count": 101
        }
      ]
    },
    {
      "cell_type": "code",
      "metadata": {
        "id": "f8809f0b-53a0-4517-8138-2b04288ecbee",
        "colab": {
          "base_uri": "https://localhost:8080/",
          "height": 411
        },
        "outputId": "d4096a3e-b7ba-4289-879c-b0e7f38bf28d"
      },
      "outputs": [
        {
          "output_type": "display_data",
          "data": {
            "text/plain": [
              "<Figure size 640x480 with 2 Axes>"
            ],
            "image/png": "[encoded data removed]"
          },
          "metadata": {}
        }
      ],
      "source": [
        "\n",
        "plot_channels(model.state_dict()['cnn1.weight'])\n"
      ],
      "execution_count": 102
    },
    {
      "cell_type": "code",
      "metadata": {
        "id": "868d5c3e-8e0d-47de-9157-258aa2459c17",
        "colab": {
          "base_uri": "https://localhost:8080/",
          "height": 267
        },
        "outputId": "e637519b-1b9e-4356-beac-1921ae8ad5c6"
      },
      "outputs": [
        {
          "output_type": "display_data",
          "data": {
            "text/plain": [
              "<Figure size 640x480 with 2 Axes>"
            ],
            "image/png": "[encoded data removed]"
          },
          "metadata": {}
        }
      ],
      "source": [
        "plot_channels(model.state_dict()['cnn2.weight'])"
      ],
      "execution_count": 103
    },
    {
      "cell_type": "markdown",
      "metadata": {
        "id": "1ee105ab-b987-4d7d-b4ec-46b4300b7b4e"
      },
      "source": [
        "Define the loss function \n"
      ]
    },
    {
      "cell_type": "code",
      "metadata": {
        "id": "2d74dbb1-4c05-4cbe-9489-1b7fb35945b9"
      },
      "outputs": [],
      "source": [
        "criterion=nn.CrossEntropyLoss()"
      ],
      "execution_count": 104
    },
    {
      "cell_type": "markdown",
      "metadata": {
        "id": "174ee8ad-4f00-4812-87cf-4cd85661d5b9"
      },
      "source": [
        " optimizer class \n"
      ]
    },
    {
      "cell_type": "code",
      "metadata": {
        "id": "8b348d67-ccd5-479a-a29e-7783d161fb3d"
      },
      "outputs": [],
      "source": [
        "learning_rate=0.001\n",
        "\n",
        "optimizer = torch.optim.Adam(model.parameters(), lr=learning_rate)"
      ],
      "execution_count": 105
    },
    {
      "cell_type": "markdown",
      "metadata": {
        "id": "40f49b04-0b01-4d24-bcb7-3b8a47ea3eca"
      },
      "source": [
        "Define the optimizer class \n"
      ]
    },
    {
      "cell_type": "code",
      "metadata": {
        "id": "0356cfb7-41cd-4629-aed2-34b3816f8cd9"
      },
      "outputs": [],
      "source": [
        "\n",
        "train_loader=torch.utils.data.DataLoader(dataset=train_dataset,batch_size=10)\n",
        "validation_loader=torch.utils.data.DataLoader(dataset=validation_dataset,batch_size=20)"
      ],
      "execution_count": 106
    },
    {
      "cell_type": "markdown",
      "metadata": {
        "id": "e756e750-b6d6-4ebe-87cf-9e7f6b07a24c"
      },
      "source": [
        "Train the model and determine validation accuracy technically test accuracy **(This may take a long time)**\n"
      ]
    },
    {
      "cell_type": "code",
      "metadata": {
        "id": "f1c3d898-aa49-47c7-8576-e757a34f0149"
      },
      "outputs": [],
      "source": [
        "n_epochs=10\n",
        "cost_list=[]\n",
        "accuracy_list=[]\n",
        "N_test=len(validation_dataset)\n",
        "cost=0\n",
        "#n_epochs\n",
        "for epoch in range(n_epochs):\n",
        "    cost=0    \n",
        "    for x, y in train_loader:\n",
        "      \n",
        "\n",
        "        #clear gradient \n",
        "        optimizer.zero_grad()\n",
        "        #make a prediction \n",
        "        z=model(x)\n",
        "        # calculate loss \n",
        "        loss=criterion(z,y)\n",
        "        # calculate gradients of parameters \n",
        "        loss.backward()\n",
        "        # update parameters \n",
        "        optimizer.step()\n",
        "        cost+=loss.item()\n",
        "    cost_list.append(cost)\n",
        "        \n",
        "        \n",
        "    correct=0\n",
        "    #perform a prediction on the validation  data  \n",
        "    for x_test, y_test in validation_loader:\n",
        "\n",
        "        z=model(x_test)\n",
        "        _,yhat=torch.max(z.data,1)\n",
        "\n",
        "        correct+=(yhat==y_test).sum().item()\n",
        "        \n",
        "\n",
        "    accuracy=correct/N_test\n",
        "\n",
        "    accuracy_list.append(accuracy)\n",
        "    \n",
        "\n"
      ],
      "execution_count": 107
    },
    {
      "cell_type": "code",
      "source": [
        "z.size()"
      ],
      "metadata": {
        "colab": {
          "base_uri": "https://localhost:8080/"
        },
        "id": "Wv6lB-PVJBY2",
        "outputId": "493f521d-0961-4b3e-8041-0f7024207dc9"
      },
      "execution_count": 125,
      "outputs": [
        {
          "output_type": "execute_result",
          "data": {
            "text/plain": [
              "torch.Size([20, 2])"
            ]
          },
          "metadata": {},
          "execution_count": 125
        }
      ]
    },
    {
      "cell_type": "markdown",
      "metadata": {
        "id": "60b249cc-9b1c-477f-96b1-dc25f7b380fc"
      },
      "source": [
        "#### <a id=\"ref3\"></a>\n",
        "<h2 align=center>Analyse Results</h2> \n"
      ]
    },
    {
      "cell_type": "markdown",
      "metadata": {
        "id": "303aa89f-1725-40a7-bced-bfc05528b0e2"
      },
      "source": [
        "Plot the loss and accuracy on the validation data:\n"
      ]
    },
    {
      "cell_type": "code",
      "metadata": {
        "id": "600ed645-a5dc-443b-bdd0-4788f8f7f037",
        "colab": {
          "base_uri": "https://localhost:8080/",
          "height": 486
        },
        "outputId": "ac15c85f-4e8a-4b58-ce68-8f7cb33fd66c"
      },
      "outputs": [
        {
          "output_type": "display_data",
          "data": {
            "text/plain": [
              "<Figure size 640x480 with 2 Axes>"
            ],
            "image/png": "[encoded data removed]"
          },
          "metadata": {}
        }
      ],
      "source": [
        "fig, ax1 = plt.subplots()\n",
        "color = 'tab:red'\n",
        "ax1.plot(cost_list,color=color)\n",
        "ax1.set_xlabel('epoch',color=color)\n",
        "ax1.set_ylabel('total loss',color=color)\n",
        "ax1.tick_params(axis='y', color=color)\n",
        "    \n",
        "ax2 = ax1.twinx()  \n",
        "color = 'tab:blue'\n",
        "ax2.set_ylabel('accuracy', color=color)  \n",
        "ax2.plot( accuracy_list, color=color)\n",
        "ax2.tick_params(axis='y', labelcolor=color)\n",
        "fig.tight_layout()"
      ],
      "execution_count": 108
    },
    {
      "cell_type": "markdown",
      "metadata": {
        "id": "bc6f1872-bf69-4a56-901e-e4da108e43bf"
      },
      "source": [
        "View the results of the parameters for the Convolutional layers \n"
      ]
    },
    {
      "cell_type": "code",
      "metadata": {
        "id": "9548384d-7efb-46a3-8071-e5f44b696bba",
        "colab": {
          "base_uri": "https://localhost:8080/"
        },
        "outputId": "4e8d1aae-892f-491c-a903-ce3ad12f3c87"
      },
      "outputs": [
        {
          "output_type": "execute_result",
          "data": {
            "text/plain": [
              "tensor([[[[ 0.4718,  0.5915],\n",
              "          [ 0.0086, -0.0027]]],\n",
              "\n",
              "\n",
              "        [[[-0.3876, -0.2359],\n",
              "          [ 0.9941,  0.9201]]]])"
            ]
          },
          "metadata": {},
          "execution_count": 60
        }
      ],
      "source": [
        "model.state_dict()['cnn1.weight']"
      ],
      "execution_count": 60
    },
    {
      "cell_type": "code",
      "metadata": {
        "id": "26d876c0-c16f-40af-9425-bc2a3cd3f719",
        "colab": {
          "base_uri": "https://localhost:8080/",
          "height": 411
        },
        "outputId": "9954c2ed-5875-4fe7-dc59-9a42de22571e"
      },
      "outputs": [
        {
          "output_type": "display_data",
          "data": {
            "text/plain": [
              "<Figure size 640x480 with 2 Axes>"
            ],
            "image/png": "[encoded data removed]"
          },
          "metadata": {}
        }
      ],
      "source": [
        "plot_channels(model.state_dict()['cnn1.weight'])"
      ],
      "execution_count": 61
    },
    {
      "cell_type": "code",
      "metadata": {
        "id": "6f544a9c-1379-45bc-98fc-1cb0f5606a75",
        "colab": {
          "base_uri": "https://localhost:8080/"
        },
        "outputId": "d897537f-b9b7-4536-ff7e-ea121e7cbd11"
      },
      "outputs": [
        {
          "output_type": "execute_result",
          "data": {
            "text/plain": [
              "tensor([[[[ 0.4718,  0.5915],\n",
              "          [ 0.0086, -0.0027]]],\n",
              "\n",
              "\n",
              "        [[[-0.3876, -0.2359],\n",
              "          [ 0.9941,  0.9201]]]])"
            ]
          },
          "metadata": {},
          "execution_count": 62
        }
      ],
      "source": [
        "model.state_dict()['cnn1.weight']"
      ],
      "execution_count": 62
    },
    {
      "cell_type": "code",
      "metadata": {
        "id": "ed1eaa45-7a6b-42bb-8e0f-857cdcb51760",
        "colab": {
          "base_uri": "https://localhost:8080/",
          "height": 267
        },
        "outputId": "9e35636d-de2b-495f-87cb-b06d9a2fb0a0"
      },
      "outputs": [
        {
          "output_type": "display_data",
          "data": {
            "text/plain": [
              "<Figure size 640x480 with 2 Axes>"
            ],
            "image/png": "[encoded data removed]"
          },
          "metadata": {}
        }
      ],
      "source": [
        "plot_channels(model.state_dict()['cnn2.weight'])"
      ],
      "execution_count": 63
    },
    {
      "cell_type": "markdown",
      "metadata": {
        "id": "5218e910-8a83-46cc-b1d7-128293ea7944"
      },
      "source": [
        "Consider the following sample \n"
      ]
    },
    {
      "cell_type": "code",
      "metadata": {
        "id": "3d92ec62-836a-4404-9c47-45dcc13eb056",
        "colab": {
          "base_uri": "https://localhost:8080/",
          "height": 452
        },
        "outputId": "42f61822-d7a7-44c7-e133-62f5c9dfc812"
      },
      "outputs": [
        {
          "output_type": "display_data",
          "data": {
            "text/plain": [
              "<Figure size 640x480 with 1 Axes>"
            ],
            "image/png": "[encoded data removed]"
          },
          "metadata": {}
        }
      ],
      "source": [
        "show_data(train_dataset,N_images//2+2)"
      ],
      "execution_count": 64
    },
    {
      "cell_type": "markdown",
      "metadata": {
        "id": "4ee579c7-4934-44d1-a9d7-49520ab1e717"
      },
      "source": [
        "Determine the activations \n"
      ]
    },
    {
      "cell_type": "code",
      "metadata": {
        "id": "35bf969e-a800-4203-a1ca-a536b0dce045",
        "colab": {
          "base_uri": "https://localhost:8080/"
        },
        "outputId": "03d88887-d38d-4172-c760-b0a3783fea66"
      },
      "outputs": [
        {
          "output_type": "execute_result",
          "data": {
            "text/plain": [
              "(tensor([[[[ 0.1234,  0.1234,  0.1234,  0.0379, -0.0098, -0.0098,  0.0757,\n",
              "             0.1234,  0.1234,  0.1234],\n",
              "           [ 0.1234,  0.1234,  0.1234,  0.5387,  0.8799,  0.8799,  0.4646,\n",
              "             0.1234,  0.1234,  0.1234],\n",
              "           [ 0.1234,  0.1234,  0.1234,  0.5387,  0.8799,  0.9654,  0.5123,\n",
              "             0.1234,  0.1234,  0.1234],\n",
              "           [ 0.1234,  0.1234,  0.1234,  0.5387,  0.8799,  0.3790,  0.0757,\n",
              "             0.1234,  0.1234,  0.1234],\n",
              "           [ 0.1234,  0.1234,  0.1234,  0.5387,  0.9654,  0.9276,  0.4646,\n",
              "             0.1234,  0.1234,  0.1234],\n",
              "           [ 0.1234,  0.1234,  0.1234,  0.5387,  0.3790,  0.4910,  0.4646,\n",
              "             0.1234,  0.1234,  0.1234],\n",
              "           [ 0.1234,  0.1234,  0.1234,  0.5387,  0.8799,  0.9654,  0.5123,\n",
              "             0.1234,  0.1234,  0.1234],\n",
              "           [ 0.1234,  0.1234,  0.1234,  0.5387,  0.8799,  0.3790,  0.0757,\n",
              "             0.1234,  0.1234,  0.1234],\n",
              "           [ 0.1234,  0.1234,  0.1234,  0.5387,  0.8799,  0.8799,  0.4646,\n",
              "             0.1234,  0.1234,  0.1234],\n",
              "           [ 0.1234,  0.1234,  0.1234,  0.6242,  1.0131,  1.0131,  0.5123,\n",
              "             0.1234,  0.1234,  0.1234]],\n",
              " \n",
              "          [[ 0.4556,  0.4556,  0.4556,  1.3049,  2.2260,  2.2260,  1.3767,\n",
              "             0.4556,  0.4556,  0.4556],\n",
              "           [ 0.4556,  0.4556,  0.4556,  1.0186,  1.5074,  1.5074,  0.9445,\n",
              "             0.4556,  0.4556,  0.4556],\n",
              "           [ 0.4556,  0.4556,  0.4556,  1.0186,  1.5074,  0.6581,  0.0234,\n",
              "             0.4556,  0.4556,  0.4556],\n",
              "           [ 0.4556,  0.4556,  0.4556,  1.0186,  1.5074,  1.7938,  1.3767,\n",
              "             0.4556,  0.4556,  0.4556],\n",
              "           [ 0.4556,  0.4556,  0.4556,  1.0186,  0.6581,  0.5863,  0.9445,\n",
              "             0.4556,  0.4556,  0.4556],\n",
              "           [ 0.4556,  0.4556,  0.4556,  1.0186,  1.7938,  1.9397,  0.9445,\n",
              "             0.4556,  0.4556,  0.4556],\n",
              "           [ 0.4556,  0.4556,  0.4556,  1.0186,  1.5074,  0.6581,  0.0234,\n",
              "             0.4556,  0.4556,  0.4556],\n",
              "           [ 0.4556,  0.4556,  0.4556,  1.0186,  1.5074,  1.7938,  1.3767,\n",
              "             0.4556,  0.4556,  0.4556],\n",
              "           [ 0.4556,  0.4556,  0.4556,  1.0186,  1.5074,  1.5074,  0.9445,\n",
              "             0.4556,  0.4556,  0.4556],\n",
              "           [ 0.4556,  0.4556,  0.4556,  0.1693, -0.2630, -0.2630,  0.0234,\n",
              "             0.4556,  0.4556,  0.4556]]]], grad_fn=<ConvolutionBackward0>),\n",
              " tensor([[[[0.1234, 0.1234, 0.1234, 0.0379, 0.0000, 0.0000, 0.0757, 0.1234,\n",
              "            0.1234, 0.1234],\n",
              "           [0.1234, 0.1234, 0.1234, 0.5387, 0.8799, 0.8799, 0.4646, 0.1234,\n",
              "            0.1234, 0.1234],\n",
              "           [0.1234, 0.1234, 0.1234, 0.5387, 0.8799, 0.9654, 0.5123, 0.1234,\n",
              "            0.1234, 0.1234],\n",
              "           [0.1234, 0.1234, 0.1234, 0.5387, 0.8799, 0.3790, 0.0757, 0.1234,\n",
              "            0.1234, 0.1234],\n",
              "           [0.1234, 0.1234, 0.1234, 0.5387, 0.9654, 0.9276, 0.4646, 0.1234,\n",
              "            0.1234, 0.1234],\n",
              "           [0.1234, 0.1234, 0.1234, 0.5387, 0.3790, 0.4910, 0.4646, 0.1234,\n",
              "            0.1234, 0.1234],\n",
              "           [0.1234, 0.1234, 0.1234, 0.5387, 0.8799, 0.9654, 0.5123, 0.1234,\n",
              "            0.1234, 0.1234],\n",
              "           [0.1234, 0.1234, 0.1234, 0.5387, 0.8799, 0.3790, 0.0757, 0.1234,\n",
              "            0.1234, 0.1234],\n",
              "           [0.1234, 0.1234, 0.1234, 0.5387, 0.8799, 0.8799, 0.4646, 0.1234,\n",
              "            0.1234, 0.1234],\n",
              "           [0.1234, 0.1234, 0.1234, 0.6242, 1.0131, 1.0131, 0.5123, 0.1234,\n",
              "            0.1234, 0.1234]],\n",
              " \n",
              "          [[0.4556, 0.4556, 0.4556, 1.3049, 2.2260, 2.2260, 1.3767, 0.4556,\n",
              "            0.4556, 0.4556],\n",
              "           [0.4556, 0.4556, 0.4556, 1.0186, 1.5074, 1.5074, 0.9445, 0.4556,\n",
              "            0.4556, 0.4556],\n",
              "           [0.4556, 0.4556, 0.4556, 1.0186, 1.5074, 0.6581, 0.0234, 0.4556,\n",
              "            0.4556, 0.4556],\n",
              "           [0.4556, 0.4556, 0.4556, 1.0186, 1.5074, 1.7938, 1.3767, 0.4556,\n",
              "            0.4556, 0.4556],\n",
              "           [0.4556, 0.4556, 0.4556, 1.0186, 0.6581, 0.5863, 0.9445, 0.4556,\n",
              "            0.4556, 0.4556],\n",
              "           [0.4556, 0.4556, 0.4556, 1.0186, 1.7938, 1.9397, 0.9445, 0.4556,\n",
              "            0.4556, 0.4556],\n",
              "           [0.4556, 0.4556, 0.4556, 1.0186, 1.5074, 0.6581, 0.0234, 0.4556,\n",
              "            0.4556, 0.4556],\n",
              "           [0.4556, 0.4556, 0.4556, 1.0186, 1.5074, 1.7938, 1.3767, 0.4556,\n",
              "            0.4556, 0.4556],\n",
              "           [0.4556, 0.4556, 0.4556, 1.0186, 1.5074, 1.5074, 0.9445, 0.4556,\n",
              "            0.4556, 0.4556],\n",
              "           [0.4556, 0.4556, 0.4556, 0.1693, 0.0000, 0.0000, 0.0234, 0.4556,\n",
              "            0.4556, 0.4556]]]], grad_fn=<ReluBackward0>),\n",
              " tensor([[[[0.3677, 0.7429, 1.8205, 2.4720, 2.5180, 2.1352, 1.0277, 0.3677],\n",
              "           [0.3677, 0.5995, 1.3521, 1.7875, 1.8989, 1.6428, 0.9667, 0.3677],\n",
              "           [0.3677, 0.5995, 1.3693, 1.9769, 2.1431, 1.9379, 1.1048, 0.3677],\n",
              "           [0.3677, 0.5995, 1.3169, 2.0209, 2.1619, 2.0443, 1.0020, 0.3677],\n",
              "           [0.3677, 0.5995, 1.4431, 2.1565, 2.2979, 1.9130, 0.8639, 0.3677],\n",
              "           [0.3677, 0.5995, 1.4955, 2.1124, 2.2791, 1.8065, 0.9667, 0.3677],\n",
              "           [0.3677, 0.5995, 1.3521, 1.9137, 2.0876, 1.9122, 1.1048, 0.3677],\n",
              "           [0.3677, 0.6166, 1.4248, 2.0645, 2.1729, 1.9971, 1.0277, 0.3677]]]],\n",
              "        grad_fn=<ConvolutionBackward0>),\n",
              " tensor([[[[0.3677, 0.7429, 1.8205, 2.4720, 2.5180, 2.1352, 1.0277, 0.3677],\n",
              "           [0.3677, 0.5995, 1.3521, 1.7875, 1.8989, 1.6428, 0.9667, 0.3677],\n",
              "           [0.3677, 0.5995, 1.3693, 1.9769, 2.1431, 1.9379, 1.1048, 0.3677],\n",
              "           [0.3677, 0.5995, 1.3169, 2.0209, 2.1619, 2.0443, 1.0020, 0.3677],\n",
              "           [0.3677, 0.5995, 1.4431, 2.1565, 2.2979, 1.9130, 0.8639, 0.3677],\n",
              "           [0.3677, 0.5995, 1.4955, 2.1124, 2.2791, 1.8065, 0.9667, 0.3677],\n",
              "           [0.3677, 0.5995, 1.3521, 1.9137, 2.0876, 1.9122, 1.1048, 0.3677],\n",
              "           [0.3677, 0.6166, 1.4248, 2.0645, 2.1729, 1.9971, 1.0277, 0.3677]]]],\n",
              "        grad_fn=<ReluBackward0>),\n",
              " tensor([[0.7429, 1.8205, 2.4720, 2.5180, 2.5180, 2.1352, 1.0277, 0.5995, 1.3693,\n",
              "          1.9769, 2.1431, 2.1431, 1.9379, 1.1048, 0.5995, 1.3693, 2.0209, 2.1619,\n",
              "          2.1619, 2.0443, 1.1048, 0.5995, 1.4431, 2.1565, 2.2979, 2.2979, 2.0443,\n",
              "          1.0020, 0.5995, 1.4955, 2.1565, 2.2979, 2.2979, 1.9130, 0.9667, 0.5995,\n",
              "          1.4955, 2.1124, 2.2791, 2.2791, 1.9122, 1.1048, 0.6166, 1.4248, 2.0645,\n",
              "          2.1729, 2.1729, 1.9971, 1.1048]], grad_fn=<ViewBackward0>))"
            ]
          },
          "metadata": {},
          "execution_count": 120
        }
      ],
      "source": [
        "out=model.activations(train_dataset[N_images//2+2][0].view(1,1,11,11))\n",
        "out=model.activations(train_dataset[0][0].view(1,1,11,11))\n",
        "out"
      ],
      "execution_count": 120
    },
    {
      "cell_type": "markdown",
      "metadata": {
        "id": "56473000-48b1-4da6-8ccd-11f6739a78de"
      },
      "source": [
        "Plot them out\n"
      ]
    },
    {
      "cell_type": "code",
      "metadata": {
        "id": "057cf579-5e10-4f2e-a179-72c3da5b20e6",
        "colab": {
          "base_uri": "https://localhost:8080/",
          "height": 299
        },
        "outputId": "d68fdd78-2b28-4595-f6c9-8e728dec464e"
      },
      "outputs": [
        {
          "output_type": "stream",
          "name": "stdout",
          "text": [
            "2\n"
          ]
        },
        {
          "output_type": "display_data",
          "data": {
            "text/plain": [
              "<Figure size 640x480 with 2 Axes>"
            ],
            "image/png": "[encoded data removed]"
          },
          "metadata": {}
        }
      ],
      "source": [
        "plot_activations(out[0],number_rows=1,name=\" feature map\")\n",
        "plt.show()\n"
      ],
      "execution_count": 110
    },
    {
      "cell_type": "code",
      "metadata": {
        "id": "5b8af467-ad56-43c6-be55-179745ee05fa",
        "colab": {
          "base_uri": "https://localhost:8080/",
          "height": 447
        },
        "outputId": "70e04bf2-dc4c-4960-bf3c-1a9f7ea28f46"
      },
      "outputs": [
        {
          "output_type": "stream",
          "name": "stdout",
          "text": [
            "1\n"
          ]
        },
        {
          "output_type": "display_data",
          "data": {
            "text/plain": [
              "<Figure size 640x480 with 1 Axes>"
            ],
            "image/png": "[encoded data removed]"
          },
          "metadata": {}
        }
      ],
      "source": [
        "plot_activations(out[2],number_rows=1,name=\"2nd feature map\")\n",
        "plt.show()"
      ],
      "execution_count": 111
    },
    {
      "cell_type": "code",
      "metadata": {
        "id": "c13c42f6-0273-476d-bd84-3683f9d52f15",
        "colab": {
          "base_uri": "https://localhost:8080/",
          "height": 447
        },
        "outputId": "a9584d2c-e14b-4c27-c8f4-3a950cc2030e"
      },
      "outputs": [
        {
          "output_type": "stream",
          "name": "stdout",
          "text": [
            "1\n"
          ]
        },
        {
          "output_type": "display_data",
          "data": {
            "text/plain": [
              "<Figure size 640x480 with 1 Axes>"
            ],
            "image/png": "[encoded data removed]"
          },
          "metadata": {}
        }
      ],
      "source": [
        "plot_activations(out[3],number_rows=1,name=\"first feature map\")\n",
        "plt.show()"
      ],
      "execution_count": 116
    },
    {
      "cell_type": "markdown",
      "metadata": {
        "id": "f082baa1-8f90-44fa-a9d3-575857205d7c"
      },
      "source": [
        "we save the output of the activation after flattening  \n"
      ]
    },
    {
      "cell_type": "code",
      "metadata": {
        "id": "c3afbab2-b8e8-4322-8727-a08450f3b053"
      },
      "outputs": [],
      "source": [
        "out1=out[4][0].detach().numpy()"
      ],
      "execution_count": 119
    },
    {
      "cell_type": "markdown",
      "metadata": {
        "id": "8f448ca7-dac9-40a2-8212-d8930deef11e"
      },
      "source": [
        "we can do the same for a sample  where y=0 \n"
      ]
    },
    {
      "cell_type": "code",
      "metadata": {
        "id": "c2634e55-8017-4020-80fa-8c22f947200d",
        "colab": {
          "base_uri": "https://localhost:8080/"
        },
        "outputId": "6f59d688-f0f8-410c-fc18-2cdc413dbb80"
      },
      "outputs": [
        {
          "output_type": "execute_result",
          "data": {
            "text/plain": [
              "array([0.74286485, 1.7852218 , 2.5095966 , 2.5421505 , 2.5421505 ,\n",
              "       2.2080626 , 1.0020233 , 0.59945744, 1.4955454 , 2.1564963 ,\n",
              "       2.2978828 , 2.2978828 , 1.9130139 , 0.96670735, 0.59945744,\n",
              "       1.4955454 , 2.1124327 , 2.2790995 , 2.2790995 , 1.9122142 ,\n",
              "       1.1047957 , 0.59945744, 1.3521379 , 1.9661636 , 2.087604  ,\n",
              "       2.087604  , 1.9159286 , 1.1047957 , 0.59945744, 1.3521379 ,\n",
              "       1.9661636 , 2.0746136 , 2.0746136 , 1.9159286 , 1.0020233 ,\n",
              "       0.59945744, 1.3521379 , 1.8227563 , 1.8227563 , 1.8227563 ,\n",
              "       1.5909787 , 0.8382982 , 0.61661714, 1.4248354 , 1.9210904 ,\n",
              "       1.9210904 , 1.9210904 , 1.6721534 , 0.86393505], dtype=float32)"
            ]
          },
          "metadata": {},
          "execution_count": 121
        }
      ],
      "source": [
        "out0=model.activations(train_dataset[100][0].view(1,1,11,11))[4][0].detach().numpy()\n",
        "out0"
      ],
      "execution_count": 121
    },
    {
      "cell_type": "code",
      "metadata": {
        "id": "5a938dea-ad72-427d-8011-d7b86bc1875f",
        "colab": {
          "base_uri": "https://localhost:8080/",
          "height": 489
        },
        "outputId": "63871715-d03f-402d-b5ff-c5274aa5c883"
      },
      "outputs": [
        {
          "output_type": "execute_result",
          "data": {
            "text/plain": [
              "Text(0, 0.5, 'Activation')"
            ]
          },
          "metadata": {},
          "execution_count": 122
        },
        {
          "output_type": "display_data",
          "data": {
            "text/plain": [
              "<Figure size 640x480 with 2 Axes>"
            ],
            "image/png": "[encoded data removed]"
          },
          "metadata": {}
        }
      ],
      "source": [
        "plt.subplot(2, 1, 1)\n",
        "plt.plot( out1, 'b')\n",
        "plt.title('Flatted Activation Values  ')\n",
        "plt.ylabel('Activation')\n",
        "plt.xlabel('index')\n",
        "plt.subplot(2, 1, 2)\n",
        "plt.plot(out0, 'r')\n",
        "plt.xlabel('index')\n",
        "plt.ylabel('Activation')"
      ],
      "execution_count": 122
    },
    {
      "cell_type": "markdown",
      "metadata": {
        "id": "f3d9b2ad-c021-40e4-b25d-531ab85faeca"
      },
      "source": [
        "\n",
        "\n",
        "<a href=\"https://dataplatform.cloud.ibm.com/registration/stepone?utm_medium=Exinfluencer&utm_source=Exinfluencer&utm_content=000026UJ&utm_term=10006555&utm_id=NA-SkillsNetwork-Channel-SkillsNetworkCoursesIBMDeveloperSkillsNetworkDL0110ENSkillsNetwork952-2022-01-01&context=cpdaas&apps=data_science_experience%2Cwatson_machine_learning\"><img src=\"https://cf-courses-data.s3.us.cloud-object-storage.appdomain.cloud/IBMDeveloperSkillsNetwork-DL0110EN-SkillsNetwork/Template/module%201/images/Watson_Studio.png\"></a>\n",
        "\n"
      ]
    },
    {
      "cell_type": "markdown",
      "metadata": {
        "id": "845f0daf-88e4-40ee-91da-6b343fa868eb"
      },
      "source": [
        "### About the Authors:  \n",
        "[Joseph Santarcangelo](https://www.linkedin.com/in/joseph-s-50398b136/?utm_medium=Exinfluencer&utm_source=Exinfluencer&utm_content=000026UJ&utm_term=10006555&utm_id=NA-SkillsNetwork-Channel-SkillsNetworkCoursesIBMDeveloperSkillsNetworkDL0110ENSkillsNetwork952-2022-01-01) has a PhD in Electrical Engineering. His research focused on using machine learning, signal processing, and computer vision to determine how videos impact human cognition. \n",
        "\n",
        "Other contributors: [Michelle Carey](https://www.linkedin.com/in/michelleccarey/?utm_medium=Exinfluencer&utm_source=Exinfluencer&utm_content=000026UJ&utm_term=10006555&utm_id=NA-SkillsNetwork-Channel-SkillsNetworkCoursesIBMDeveloperSkillsNetworkDL0110ENSkillsNetwork952-2022-01-01) \n"
      ]
    },
    {
      "cell_type": "markdown",
      "metadata": {
        "id": "137ab383-1d52-49ce-b1b6-50adb23493ff"
      },
      "source": [
        "\n",
        "## Change Log\n",
        "\n",
        "|  Date (YYYY-MM-DD) |  Version | Changed By  |  Change Description |\n",
        "|---|---|---|---|\n",
        "| 2020-09-23  | 2.0  | Srishti  |  Migrated Lab to Markdown and added to course repo in GitLab |\n",
        "\n",
        "\n",
        "\n",
        "<hr>\n",
        "\n",
        "## <h3 align=\"center\"> © IBM Corporation 2020. All rights reserved. <h3/>\n"
      ]
    }
  ],
  "metadata": {
    "kernelspec": {
      "display_name": "Python",
      "language": "python",
      "name": "conda-env-python-py"
    },
    "language_info": {
      "name": ""
    },
    "colab": {
      "provenance": [],
      "include_colab_link": true
    }
  },
  "nbformat": 4,
  "nbformat_minor": 0
}