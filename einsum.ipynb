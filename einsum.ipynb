{
  "nbformat": 4,
  "nbformat_minor": 0,
  "metadata": {
    "colab": {
      "provenance": [],
      "authorship_tag": "ABX9TyO7KoanHM1jhlYoVHIsCHO+",
      "include_colab_link": true
    },
    "kernelspec": {
      "name": "python3",
      "display_name": "Python 3"
    },
    "language_info": {
      "name": "python"
    }
  },
  "cells": [
    {
      "cell_type": "markdown",
      "metadata": {
        "id": "view-in-github",
        "colab_type": "text"
      },
      "source": [
        "<a href=\"https://colab.research.google.com/github/TheRadDani/Pytorch-exercises/blob/main/einsum.ipynb\" target=\"_parent\"><img src=\"https://colab.research.google.com/assets/colab-badge.svg\" alt=\"Open In Colab\"/></a>"
      ]
    },
    {
      "cell_type": "code",
      "execution_count": 8,
      "metadata": {
        "colab": {
          "base_uri": "https://localhost:8080/"
        },
        "id": "8DTeW3CjUD0T",
        "outputId": "225b8a69-ef72-460e-d1ef-2aa4d665850c"
      },
      "outputs": [
        {
          "output_type": "execute_result",
          "data": {
            "text/plain": [
              "array([[0.2316721 , 0.10868752, 0.21707048],\n",
              "       [0.00509478, 0.00239018, 0.00477367],\n",
              "       [0.08723339, 0.040925  , 0.08173533],\n",
              "       [0.24086704, 0.11300127, 0.22568589],\n",
              "       [0.26708643, 0.12530194, 0.25025275]])"
            ]
          },
          "metadata": {},
          "execution_count": 8
        }
      ],
      "source": [
        "import torch\n",
        "\n",
        "import numpy as np\n",
        "\n",
        "a = np.random.rand(5)\n",
        "b = np.random.rand(3)\n",
        "np.einsum('i,j->ij',a,b) #outer product"
      ]
    },
    {
      "cell_type": "code",
      "source": [
        "#omitting a letter means that axis wil be summed\n",
        "x = np.ones(3)\n",
        "np.einsum('i->',x)"
      ],
      "metadata": {
        "colab": {
          "base_uri": "https://localhost:8080/"
        },
        "id": "9YYoEoB8WTdn",
        "outputId": "c1f98cf0-5182-4b87-9eff-df5f8058ea3e"
      },
      "execution_count": 9,
      "outputs": [
        {
          "output_type": "execute_result",
          "data": {
            "text/plain": [
              "3.0"
            ]
          },
          "metadata": {},
          "execution_count": 9
        }
      ]
    },
    {
      "cell_type": "code",
      "source": [
        "x = np.ones((5,4,3))\n",
        "print(x.shape)\n",
        "new_x = np.einsum('ijk->kji',x)\n",
        "print(new_x.shape)"
      ],
      "metadata": {
        "colab": {
          "base_uri": "https://localhost:8080/"
        },
        "id": "8rDgWZB5WyOn",
        "outputId": "d8b192a5-f370-4ba0-8f63-7955c3a2f672"
      },
      "execution_count": 11,
      "outputs": [
        {
          "output_type": "stream",
          "name": "stdout",
          "text": [
            "(5, 4, 3)\n",
            "(3, 4, 5)\n"
          ]
        }
      ]
    },
    {
      "cell_type": "code",
      "source": [
        "x = torch.rand((2,3))\n",
        "print(\"x val:\\n\",x)\n",
        "print(\"dimensions\",x.shape)\n",
        "#permutation of tensors\n",
        "a = torch.einsum('ij->ji',x)\n",
        "print(\"permutation dimensions\",a.shape)\n",
        "#summation\n",
        "sum = torch.einsum('ij->',x)\n",
        "print(\"x sum:\",sum)\n",
        "\n",
        "#column sum\n",
        "col_sum = torch.einsum(\"ij->j\",x)\n",
        "print(\"col_sum\",col_sum)\n",
        "\n",
        "#row_sum\n",
        "row_sum = torch.einsum(\"ij->i\",x)\n",
        "print(\"row_sum\",row_sum)\n",
        "\n",
        "#Matrix-vector multiplication\n",
        "v = torch.rand((1,3))\n",
        "mv_mult = torch.einsum(\"ij,kj->ik\",x,v)\n",
        "print(\"mv_mult:\\n\",mv_mult)\n",
        "\n",
        "\n",
        "#Matrix-Matrix Multiplication\n",
        "mm_mult = torch.einsum(\"ij,kj->ik\",x,x)\n",
        "print(\"mm_mult:\\n\",mm_mult)\n",
        "\n",
        "#dot product first row with first row of matrix\n",
        "dot_prod_row_one = torch.einsum(\"i,i->\",x[0],x[0])\n",
        "print(\"dot_prod_row_one:\\n\",dot_prod_row_one)\n",
        "\n",
        "#dot product with matrix\n",
        "dot_product_matrix = torch.einsum('ij,ij->',x,x)\n",
        "print(\"dot_product_matrix:\\n\",dot_product_matrix)\n",
        "\n",
        "#hadamard product (element-wise multiplication)\n",
        "hadamard = torch.einsum('ij,ij->ij',x,x)\n",
        "print(\"hadamard:\\n\",hadamard)\n",
        "\n",
        "#outer product\n",
        "outer_product = torch.einsum('i,j->ij',x[0],x[1])\n",
        "print(\"outer product:\\n\",outer_product)\n",
        "\n",
        "#batch matrix multiplication\n",
        "a = torch.rand((3,2,5))\n",
        "print(\"a:\\n\",a)\n",
        "b = torch.rand((3,5,3))\n",
        "print(\"b:\\n\",b)\n",
        "batch = torch.einsum('ijk,ikl->ijl',a,b)\n",
        "print(\"batch:\\n\",batch)\n",
        "\n",
        "\n",
        "#matrix Diagonal\n",
        "x = torch.rand((3,3))\n",
        "print(\"x:\\n\",x)\n",
        "diagonal = torch.einsum(\"ii->i\",x)\n",
        "print(\"diagonal:\\n\",diagonal)\n",
        "\n",
        "#matrix trace\n",
        "trace = torch.einsum(\"ii->\",x)\n",
        "print(\"trace:\\n\",trace)"
      ],
      "metadata": {
        "colab": {
          "base_uri": "https://localhost:8080/"
        },
        "id": "8nOtnwfKXOD6",
        "outputId": "e15847fd-e644-4bfc-de05-6e371190f02d"
      },
      "execution_count": 55,
      "outputs": [
        {
          "output_type": "stream",
          "name": "stdout",
          "text": [
            "x val:\n",
            " tensor([[0.2744, 0.4309, 0.1928],\n",
            "        [0.2639, 0.7192, 0.9685]])\n",
            "dimensions torch.Size([2, 3])\n",
            "permutation dimensions torch.Size([3, 2])\n",
            "x sum: tensor(2.8497)\n",
            "col_sum tensor([0.5384, 1.1500, 1.1613])\n",
            "row_sum tensor([0.8980, 1.9517])\n",
            "mv_mult:\n",
            " tensor([[0.4062],\n",
            "        [0.6974]])\n",
            "mm_mult:\n",
            " tensor([[0.2981, 0.5690],\n",
            "        [0.5690, 1.5250]])\n",
            "dot_prod_row_one:\n",
            " tensor(0.2981)\n",
            "dot_product_matrix:\n",
            " tensor(1.8230)\n",
            "hadamard:\n",
            " tensor([[0.0753, 0.1856, 0.0372],\n",
            "        [0.0697, 0.5172, 0.9381]])\n",
            "outer product:\n",
            " tensor([[0.0724, 0.1974, 0.2658],\n",
            "        [0.1137, 0.3099, 0.4173],\n",
            "        [0.0509, 0.1386, 0.1867]])\n",
            "a:\n",
            " tensor([[[0.5187, 0.2216, 0.1134, 0.2009, 0.8906],\n",
            "         [0.1932, 0.6920, 0.0114, 0.2966, 0.1341]],\n",
            "\n",
            "        [[0.3856, 0.2382, 0.8371, 0.9068, 0.1827],\n",
            "         [0.9702, 0.4751, 0.0105, 0.9040, 0.9272]],\n",
            "\n",
            "        [[0.7795, 0.4208, 0.9007, 0.6667, 0.5053],\n",
            "         [0.0148, 0.5597, 0.7690, 0.0461, 0.8731]]])\n",
            "b:\n",
            " tensor([[[0.6405, 0.6019, 0.0588],\n",
            "         [0.8799, 0.7491, 0.1858],\n",
            "         [0.7500, 0.9912, 0.5498],\n",
            "         [0.9887, 0.1569, 0.9080],\n",
            "         [0.6468, 0.7711, 0.6668]],\n",
            "\n",
            "        [[0.9198, 0.6506, 0.5405],\n",
            "         [0.4600, 0.5783, 0.7977],\n",
            "         [0.5988, 0.2540, 0.7173],\n",
            "         [0.5594, 0.4618, 0.5945],\n",
            "         [0.5216, 0.0550, 0.9708]],\n",
            "\n",
            "        [[0.1916, 0.1637, 0.5174],\n",
            "         [0.5012, 0.5178, 0.0435],\n",
            "         [0.8455, 0.6160, 0.4603],\n",
            "         [0.7737, 0.4156, 0.6253],\n",
            "         [0.1303, 0.2757, 0.9669]]])\n",
            "batch:\n",
            " tensor([[[1.3869, 1.3089, 0.9103],\n",
            "         [1.1212, 0.7959, 0.5050]],\n",
            "\n",
            "        [[1.5681, 1.0301, 1.7155],\n",
            "         [2.1065, 1.3771, 2.3485]],\n",
            "\n",
            "        [[1.7034, 1.3166, 1.7416],\n",
            "         [1.0830, 1.0257, 1.2589]]])\n",
            "x:\n",
            " tensor([[0.3931, 0.8442, 0.3591],\n",
            "        [0.8061, 0.2191, 0.0264],\n",
            "        [0.1514, 0.3921, 0.4428]])\n",
            "diagonal:\n",
            " tensor([0.3931, 0.2191, 0.4428])\n",
            "trace:\n",
            " tensor(1.0551)\n"
          ]
        }
      ]
    }
  ]
}